{
 "cells": [
  {
   "cell_type": "code",
   "execution_count": null,
   "id": "c2f6ccf5",
   "metadata": {},
   "outputs": [],
   "source": [
    "import numpy as np\n",
    "import matplotlib.pyplot as plt\n",
    "import cv2\n",
    "\n",
    "# 處理範例圖片用程式\n",
    "\n",
    "# 讀取範例圖片\n",
    "image = cv2.imread(\"註解 2024-02-02 161557.png\")\n",
    "upSideDown = cv2.bitwise_not(image)  # 黑白轉換\n",
    "gray = cv2.cvtColor(upSideDown, cv2.COLOR_BGR2GRAY)  # 灰階\n",
    "ret, binary = cv2.threshold(gray, 127, 255, cv2.THRESH_BINARY)\n",
    "\n",
    "# 處理邊緣並切割\n",
    "contours, hierarchy = cv2.findContours(binary, cv2.RETR_TREE, cv2.CHAIN_APPROX_SIMPLE)\n",
    "cnts = sorted([(c, cv2.boundingRect(c)[0]) for c in contours], key=lambda x: x[1])\n",
    "ary = []\n",
    "for c, _ in cnts:\n",
    "    (x, y, w, h) = cv2.boundingRect(c)\n",
    "\n",
    "    if h > 40:\n",
    "        ary.append((x, y, w, h))\n",
    "\n",
    "# 切割後存入DELTA資料夾\n",
    "for id, (x, y, w, h) in enumerate(ary):\n",
    "    roi = gray[y : y + h, x : x + w]\n",
    "    thresh = roi.copy()\n",
    "    a = fig.add_subplot(1, len(ary), id + 1)\n",
    "    res = cv2.resize(thresh, (50, 50))\n",
    "    cv2.imwrite(\"DELTA/%d.png\" % (id), res)\n"
   ]
  }
 ],
 "metadata": {
  "kernelspec": {
   "display_name": "Python 3 (ipykernel)",
   "language": "python",
   "name": "python3"
  },
  "language_info": {
   "codemirror_mode": {
    "name": "ipython",
    "version": 3
   },
   "file_extension": ".py",
   "mimetype": "text/x-python",
   "name": "python",
   "nbconvert_exporter": "python",
   "pygments_lexer": "ipython3",
   "version": "3.8.18"
  }
 },
 "nbformat": 4,
 "nbformat_minor": 5
}
